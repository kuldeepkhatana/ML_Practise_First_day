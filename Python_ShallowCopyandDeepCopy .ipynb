{
 "cells": [
  {
   "cell_type": "markdown",
   "id": "236d4997",
   "metadata": {},
   "source": [
    "## =, Shallow Copy and Deep Copy with Example"
   ]
  },
  {
   "cell_type": "markdown",
   "id": "f922fa9c",
   "metadata": {},
   "source": [
    "## = opertaor"
   ]
  },
  {
   "cell_type": "code",
   "execution_count": 5,
   "id": "f9711cf4",
   "metadata": {},
   "outputs": [
    {
     "data": {
      "text/plain": [
       "([1, 2, 3, 4, 5], [1, 2, 3, 4, 5])"
      ]
     },
     "execution_count": 5,
     "metadata": {},
     "output_type": "execute_result"
    }
   ],
   "source": [
    "## Understand the behaviour of =\n",
    "# Suppose we have list.\n",
    "list1 = [1,2,3,4,5]\n",
    "list2 = list1\n",
    "list1, list2"
   ]
  },
  {
   "cell_type": "code",
   "execution_count": 6,
   "id": "05a30f99",
   "metadata": {},
   "outputs": [],
   "source": [
    "list1[1] = 100 # add 100 in list 1st Index. "
   ]
  },
  {
   "cell_type": "code",
   "execution_count": 7,
   "id": "47e51f7e",
   "metadata": {},
   "outputs": [
    {
     "data": {
      "text/plain": [
       "[1, 100, 3, 4, 5]"
      ]
     },
     "execution_count": 7,
     "metadata": {},
     "output_type": "execute_result"
    }
   ],
   "source": [
    "list1 # Now we can look it 2 changed in 100"
   ]
  },
  {
   "cell_type": "code",
   "execution_count": 8,
   "id": "4ce58a0d",
   "metadata": {},
   "outputs": [
    {
     "data": {
      "text/plain": [
       "[1, 100, 3, 4, 5]"
      ]
     },
     "execution_count": 8,
     "metadata": {},
     "output_type": "execute_result"
    }
   ],
   "source": [
    "list2  # if we changed in list1 by using = operator it will change in list2 also because list1 and list2 are using same Memory."
   ]
  },
  {
   "cell_type": "code",
   "execution_count": 9,
   "id": "ca8ce67f",
   "metadata": {},
   "outputs": [
    {
     "data": {
      "text/plain": [
       "([0, 100, 3, 4, 5], [0, 100, 3, 4, 5])"
      ]
     },
     "execution_count": 9,
     "metadata": {},
     "output_type": "execute_result"
    }
   ],
   "source": [
    "# Let take one more test case if we change in list2 position now what will happen.\n",
    "list2\n",
    "list2[0] = 0\n",
    "list2, list1\n",
    "# if we change in list2 it will change list1 also because both are using samre memory reference."
   ]
  },
  {
   "cell_type": "code",
   "execution_count": 10,
   "id": "e3b13911",
   "metadata": {},
   "outputs": [
    {
     "data": {
      "text/plain": [
       "[[0, 100, 3, 4, 5], [1, 100, 3, 4, 5]]"
      ]
     },
     "execution_count": 10,
     "metadata": {},
     "output_type": "execute_result"
    }
   ],
   "source": [
    "# Now try to implement with nested list also, Lets see what will happen.\n",
    "list3 = [[0, 100, 3, 4, 5],[1, 100, 3, 4, 5]]\n",
    "list3"
   ]
  },
  {
   "cell_type": "code",
   "execution_count": 11,
   "id": "4b6060d7",
   "metadata": {},
   "outputs": [
    {
     "data": {
      "text/plain": [
       "(1, 3)"
      ]
     },
     "execution_count": 11,
     "metadata": {},
     "output_type": "execute_result"
    }
   ],
   "source": [
    "list3[1][0],list3[1][2]"
   ]
  },
  {
   "cell_type": "code",
   "execution_count": 12,
   "id": "015ba385",
   "metadata": {},
   "outputs": [
    {
     "data": {
      "text/plain": [
       "[[0, 100, 3, 4, 5], [1, 100, 3, 4, 5]]"
      ]
     },
     "execution_count": 12,
     "metadata": {},
     "output_type": "execute_result"
    }
   ],
   "source": [
    "list4 = list3\n",
    "list4"
   ]
  },
  {
   "cell_type": "code",
   "execution_count": 13,
   "id": "2435dac4",
   "metadata": {},
   "outputs": [],
   "source": [
    "list4[0][0] = 2"
   ]
  },
  {
   "cell_type": "code",
   "execution_count": 15,
   "id": "eadec380",
   "metadata": {},
   "outputs": [
    {
     "data": {
      "text/plain": [
       "([[2, 100, 3, 4, 5], [1, 100, 3, 4, 5]],\n",
       " [[2, 100, 3, 4, 5], [1, 100, 3, 4, 5]])"
      ]
     },
     "execution_count": 15,
     "metadata": {},
     "output_type": "execute_result"
    }
   ],
   "source": [
    "list3, list4 # Now you check if we change in nested list = operator use same memory and update both list if change any one of them."
   ]
  },
  {
   "cell_type": "markdown",
   "id": "641d4892",
   "metadata": {},
   "source": [
    "## Shallow Copy"
   ]
  },
  {
   "cell_type": "code",
   "execution_count": 16,
   "id": "a9ce63ac",
   "metadata": {},
   "outputs": [
    {
     "data": {
      "text/plain": [
       "[0, 100, 3, 4, 5]"
      ]
     },
     "execution_count": 16,
     "metadata": {},
     "output_type": "execute_result"
    }
   ],
   "source": [
    "list1 "
   ]
  },
  {
   "cell_type": "code",
   "execution_count": 17,
   "id": "c3a05de7",
   "metadata": {},
   "outputs": [],
   "source": [
    "list2 = list1.copy() # shallow Copy"
   ]
  },
  {
   "cell_type": "code",
   "execution_count": 18,
   "id": "5aff1318",
   "metadata": {},
   "outputs": [
    {
     "data": {
      "text/plain": [
       "([0, 100, 3, 4, 5], [0, 100, 3, 4, 5])"
      ]
     },
     "execution_count": 18,
     "metadata": {},
     "output_type": "execute_result"
    }
   ],
   "source": [
    "list1,list2 # create a copy of list1"
   ]
  },
  {
   "cell_type": "code",
   "execution_count": 19,
   "id": "e21cf997",
   "metadata": {},
   "outputs": [],
   "source": [
    "list1[0] = 100 # if we add some value in existing list it will reflect in another list which was copyed from first."
   ]
  },
  {
   "cell_type": "code",
   "execution_count": 20,
   "id": "2f7bf69c",
   "metadata": {},
   "outputs": [
    {
     "data": {
      "text/plain": [
       "([100, 100, 3, 4, 5], [0, 100, 3, 4, 5])"
      ]
     },
     "execution_count": 20,
     "metadata": {},
     "output_type": "execute_result"
    }
   ],
   "source": [
    "list1,list2 # Both are not using same memory referene"
   ]
  },
  {
   "cell_type": "code",
   "execution_count": 21,
   "id": "4ef79bf4",
   "metadata": {},
   "outputs": [],
   "source": [
    "list2[1] = 10000 # shallow copy does't use same memory while copy operation."
   ]
  },
  {
   "cell_type": "code",
   "execution_count": 22,
   "id": "c3ba088d",
   "metadata": {},
   "outputs": [
    {
     "data": {
      "text/plain": [
       "([100, 100, 3, 4, 5], [0, 10000, 3, 4, 5])"
      ]
     },
     "execution_count": 22,
     "metadata": {},
     "output_type": "execute_result"
    }
   ],
   "source": [
    "list1, list2"
   ]
  },
  {
   "cell_type": "code",
   "execution_count": 23,
   "id": "298c73fe",
   "metadata": {},
   "outputs": [],
   "source": [
    "# Lets Some More cases what happens when we use shallow copy with append method.\n",
    "list1.append(10)"
   ]
  },
  {
   "cell_type": "code",
   "execution_count": 24,
   "id": "fcf16f05",
   "metadata": {},
   "outputs": [
    {
     "data": {
      "text/plain": [
       "([100, 100, 3, 4, 5, 10], [0, 10000, 3, 4, 5])"
      ]
     },
     "execution_count": 24,
     "metadata": {},
     "output_type": "execute_result"
    }
   ],
   "source": [
    "list1,list2 # shallow copy does't use same Memory."
   ]
  },
  {
   "cell_type": "code",
   "execution_count": 25,
   "id": "3930a639",
   "metadata": {},
   "outputs": [],
   "source": [
    "# Now taking some more example with nested list."
   ]
  },
  {
   "cell_type": "code",
   "execution_count": 26,
   "id": "7b46f57f",
   "metadata": {},
   "outputs": [
    {
     "data": {
      "text/plain": [
       "[[2, 100, 3, 4, 5], [1, 100, 3, 4, 5]]"
      ]
     },
     "execution_count": 26,
     "metadata": {},
     "output_type": "execute_result"
    }
   ],
   "source": [
    "list3"
   ]
  },
  {
   "cell_type": "code",
   "execution_count": 27,
   "id": "89b3ac07",
   "metadata": {},
   "outputs": [],
   "source": [
    "list5 = list3.copy()"
   ]
  },
  {
   "cell_type": "code",
   "execution_count": 28,
   "id": "ca59e9cb",
   "metadata": {},
   "outputs": [
    {
     "data": {
      "text/plain": [
       "([[2, 100, 3, 4, 5], [1, 100, 3, 4, 5]],\n",
       " [[2, 100, 3, 4, 5], [1, 100, 3, 4, 5]])"
      ]
     },
     "execution_count": 28,
     "metadata": {},
     "output_type": "execute_result"
    }
   ],
   "source": [
    "list3,list5"
   ]
  },
  {
   "cell_type": "code",
   "execution_count": 29,
   "id": "a3baa9c7",
   "metadata": {},
   "outputs": [
    {
     "data": {
      "text/plain": [
       "([[2, 100, 3, 4, 5], [1, 100, 3, 4, 5]],\n",
       " [[2, 100, 3, 4, 5], [1, 100, 3, 4, 5]])"
      ]
     },
     "execution_count": 29,
     "metadata": {},
     "output_type": "execute_result"
    }
   ],
   "source": [
    "list3,list4"
   ]
  },
  {
   "cell_type": "code",
   "execution_count": 30,
   "id": "0843ed0a",
   "metadata": {},
   "outputs": [],
   "source": [
    "list4[0][1] = 10000"
   ]
  },
  {
   "cell_type": "code",
   "execution_count": 31,
   "id": "2586dfcd",
   "metadata": {},
   "outputs": [
    {
     "data": {
      "text/plain": [
       "([[2, 10000, 3, 4, 5], [1, 100, 3, 4, 5]],\n",
       " [[2, 10000, 3, 4, 5], [1, 100, 3, 4, 5]])"
      ]
     },
     "execution_count": 31,
     "metadata": {},
     "output_type": "execute_result"
    }
   ],
   "source": [
    "list3,list4 # if we upate in nested list changes will reflect another list."
   ]
  },
  {
   "cell_type": "code",
   "execution_count": 32,
   "id": "31a2e793",
   "metadata": {},
   "outputs": [],
   "source": [
    "list4.append(1)"
   ]
  },
  {
   "cell_type": "code",
   "execution_count": 33,
   "id": "7a425c0e",
   "metadata": {},
   "outputs": [],
   "source": [
    "# Note if we use shallow copy in case of nested list it use same memory for orignal list as well as copied list."
   ]
  },
  {
   "cell_type": "code",
   "execution_count": 34,
   "id": "a727a173",
   "metadata": {},
   "outputs": [
    {
     "data": {
      "text/plain": [
       "([[2, 10000, 3, 4, 5], [1, 100, 3, 4, 5], 1],\n",
       " [[2, 10000, 3, 4, 5], [1, 100, 3, 4, 5], 1])"
      ]
     },
     "execution_count": 34,
     "metadata": {},
     "output_type": "execute_result"
    }
   ],
   "source": [
    "list3, list4 "
   ]
  },
  {
   "cell_type": "markdown",
   "id": "35faa62d",
   "metadata": {},
   "source": [
    "## Deep Copy Example"
   ]
  },
  {
   "cell_type": "code",
   "execution_count": 35,
   "id": "e21de500",
   "metadata": {},
   "outputs": [
    {
     "data": {
      "text/plain": [
       "[1, 2, 3, 4, 5]"
      ]
     },
     "execution_count": 35,
     "metadata": {},
     "output_type": "execute_result"
    }
   ],
   "source": [
    "import copy\n",
    "list_x = [1,2,3,4,5]\n",
    "\n",
    "list_x"
   ]
  },
  {
   "cell_type": "code",
   "execution_count": 36,
   "id": "87646f45",
   "metadata": {},
   "outputs": [
    {
     "data": {
      "text/plain": [
       "[1, 2, 3, 4, 5]"
      ]
     },
     "execution_count": 36,
     "metadata": {},
     "output_type": "execute_result"
    }
   ],
   "source": [
    "## start copy using deep copy\n",
    "list_y = copy.deepcopy(list_x)\n",
    "list_y"
   ]
  },
  {
   "cell_type": "code",
   "execution_count": 37,
   "id": "caf820a0",
   "metadata": {},
   "outputs": [],
   "source": [
    "list_x[0] = 1000 # if we add in original list it will not affect in copied list."
   ]
  },
  {
   "cell_type": "code",
   "execution_count": 38,
   "id": "46122f99",
   "metadata": {},
   "outputs": [
    {
     "data": {
      "text/plain": [
       "([1000, 2, 3, 4, 5], [1, 2, 3, 4, 5])"
      ]
     },
     "execution_count": 38,
     "metadata": {},
     "output_type": "execute_result"
    }
   ],
   "source": [
    "list_x, list_y"
   ]
  },
  {
   "cell_type": "code",
   "execution_count": 39,
   "id": "d6c0c9b0",
   "metadata": {},
   "outputs": [],
   "source": [
    "list_z = [1000, 2, 3, 4, 5], [1, 2, 3, 4, 5]"
   ]
  },
  {
   "cell_type": "code",
   "execution_count": 40,
   "id": "9bd0e751",
   "metadata": {},
   "outputs": [
    {
     "data": {
      "text/plain": [
       "([1000, 2, 3, 4, 5], [1, 2, 3, 4, 5])"
      ]
     },
     "execution_count": 40,
     "metadata": {},
     "output_type": "execute_result"
    }
   ],
   "source": [
    "list_z"
   ]
  },
  {
   "cell_type": "code",
   "execution_count": 41,
   "id": "f560f76d",
   "metadata": {},
   "outputs": [],
   "source": [
    "list_k = copy.deepcopy(list_z)"
   ]
  },
  {
   "cell_type": "code",
   "execution_count": 42,
   "id": "c75720b2",
   "metadata": {},
   "outputs": [
    {
     "data": {
      "text/plain": [
       "([1000, 2, 3, 4, 5], [1, 2, 3, 4, 5])"
      ]
     },
     "execution_count": 42,
     "metadata": {},
     "output_type": "execute_result"
    }
   ],
   "source": [
    "list_k"
   ]
  },
  {
   "cell_type": "code",
   "execution_count": 43,
   "id": "9340ac58",
   "metadata": {},
   "outputs": [],
   "source": [
    "list_z[0][0] = 1"
   ]
  },
  {
   "cell_type": "code",
   "execution_count": 44,
   "id": "2d08eee9",
   "metadata": {},
   "outputs": [
    {
     "data": {
      "text/plain": [
       "([1, 2, 3, 4, 5], [1, 2, 3, 4, 5])"
      ]
     },
     "execution_count": 44,
     "metadata": {},
     "output_type": "execute_result"
    }
   ],
   "source": [
    "list_z"
   ]
  },
  {
   "cell_type": "code",
   "execution_count": 45,
   "id": "9c7e5e31",
   "metadata": {},
   "outputs": [
    {
     "data": {
      "text/plain": [
       "([1000, 2, 3, 4, 5], [1, 2, 3, 4, 5])"
      ]
     },
     "execution_count": 45,
     "metadata": {},
     "output_type": "execute_result"
    }
   ],
   "source": [
    "list_k"
   ]
  },
  {
   "cell_type": "code",
   "execution_count": 46,
   "id": "2b29e9a8",
   "metadata": {},
   "outputs": [],
   "source": [
    "list_k[0][0] = 200"
   ]
  },
  {
   "cell_type": "code",
   "execution_count": 47,
   "id": "61412438",
   "metadata": {},
   "outputs": [
    {
     "data": {
      "text/plain": [
       "(([1, 2, 3, 4, 5], [1, 2, 3, 4, 5]), ([200, 2, 3, 4, 5], [1, 2, 3, 4, 5]))"
      ]
     },
     "execution_count": 47,
     "metadata": {},
     "output_type": "execute_result"
    }
   ],
   "source": [
    "list_z,list_k"
   ]
  },
  {
   "cell_type": "code",
   "execution_count": null,
   "id": "1e51e296",
   "metadata": {},
   "outputs": [],
   "source": []
  }
 ],
 "metadata": {
  "kernelspec": {
   "display_name": "Python 3 (ipykernel)",
   "language": "python",
   "name": "python3"
  },
  "language_info": {
   "codemirror_mode": {
    "name": "ipython",
    "version": 3
   },
   "file_extension": ".py",
   "mimetype": "text/x-python",
   "name": "python",
   "nbconvert_exporter": "python",
   "pygments_lexer": "ipython3",
   "version": "3.8.9"
  }
 },
 "nbformat": 4,
 "nbformat_minor": 5
}
